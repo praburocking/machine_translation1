{
 "cells": [
  {
   "cell_type": "code",
   "execution_count": 1,
   "id": "b65cf217-3ad7-4d3a-84c7-dc38fbb35ec0",
   "metadata": {},
   "outputs": [],
   "source": [
    "import numpy as np\n",
    "import pandas as pd\n",
    "import re\n",
    "import string\n",
    "from string import digits\n",
    "import torch\n",
    "\n",
    "DEVICE = torch.device('cuda' if torch.cuda.is_available() else 'cpu')\n",
    "DEVICE='cpu'"
   ]
  },
  {
   "cell_type": "code",
   "execution_count": 2,
   "id": "b26d0b61-4d48-4d42-9714-906b9e634512",
   "metadata": {},
   "outputs": [],
   "source": [
    "eng_file_path='eng_trans.txt'\n",
    "fr_file_path='french_trans.txt'\n",
    "\n",
    "def read_file_to_list(path):\n",
    "    with open(path,encoding=\"utf8\") as f:\n",
    "        content_list = f.readlines()\n",
    "    content_list = [x.strip() for x in content_list]\n",
    "    return content_list"
   ]
  },
  {
   "cell_type": "code",
   "execution_count": 3,
   "id": "fecdb1c2-b72c-4a39-b3f1-11c22751523d",
   "metadata": {},
   "outputs": [],
   "source": [
    "'''\n",
    "read CSV files and push to dataframe\n",
    "'''\n",
    "raw_eng=read_file_to_list(eng_file_path)\n",
    "raw_fr=read_file_to_list(fr_file_path)\n",
    "data=pd.DataFrame({'english':raw_eng,'french':raw_fr})"
   ]
  },
  {
   "cell_type": "code",
   "execution_count": null,
   "id": "878bafb0-2a27-4994-adc7-17bd09b67af4",
   "metadata": {},
   "outputs": [],
   "source": []
  },
  {
   "cell_type": "code",
   "execution_count": 4,
   "id": "83cee13b-f51d-4d37-bdca-9aef7eac63e2",
   "metadata": {},
   "outputs": [],
   "source": [
    "#preProcess the data\n",
    "data['english'] = data.english.apply(lambda x: re.sub(\"'\", '',x).lower())\n",
    "data['french'] = data.french.apply(lambda x: re.sub(\"'\", '', x).lower())\n",
    "    \n",
    "#remove special chars\n",
    "exclude = set(string.punctuation)#set of all special chars\n",
    "#remove all the special chars\n",
    "data['english'] = data.english.apply(lambda x: ''.join(ch for ch in x if ch not in exclude))\n",
    "data['french'] = data.french.apply(lambda x: ''.join(ch for ch in x if ch not in exclude))\n",
    "    \n",
    "remove_digits = str.maketrans('','',digits)\n",
    "data['english'] = data.english.apply(lambda x: x.translate(remove_digits))\n",
    "data['french'] = data.french.apply(lambda x: x.translate(remove_digits))\n",
    "\n",
    "data['french'] = data.french.apply(lambda x: x.translate(remove_digits))\n",
    "\n",
    "\n",
    "# Remove extra spaces\n",
    "data['english']=data['english'].apply(lambda x: x.strip())\n",
    "data['french']=data['french'].apply(lambda x: x.strip())\n",
    "data['english']=data['english'].apply(lambda x: re.sub(\" +\", \" \", x))\n",
    "data['french']=data['french'].apply(lambda x: re.sub(\" +\", \" \", x))\n"
   ]
  },
  {
   "cell_type": "code",
   "execution_count": 5,
   "id": "cddf3bc4-cf50-44a3-89e0-92d05cdca172",
   "metadata": {},
   "outputs": [
    {
     "name": "stdout",
     "output_type": "stream",
     "text": [
      "\n"
     ]
    }
   ],
   "source": [
    "val_frac = 0.1 #precentage data in val\n",
    "val_split_idx = int(len(data)*val_frac) #index on which to split\n",
    "data_idx = list(range(len(data))) #create a list of ints till len of data\n",
    "np.random.shuffle(data_idx)\n",
    "train_idx=data_idx[:val_split_idx]\n",
    "val_idx=data_idx[val_split_idx:]\n",
    "print()"
   ]
  },
  {
   "cell_type": "code",
   "execution_count": 6,
   "id": "89fea815-4646-43c8-975e-7deec5a2d41b",
   "metadata": {},
   "outputs": [],
   "source": [
    "train_data=data.iloc[train_idx].reset_index().drop('index',axis=1)\n",
    "val_data=data.iloc[val_idx].reset_index().drop('index',axis=1)"
   ]
  },
  {
   "cell_type": "code",
   "execution_count": 7,
   "id": "bbce1026-680b-4cc7-838a-f6a5e905acab",
   "metadata": {},
   "outputs": [
    {
     "data": {
      "text/html": [
       "<div>\n",
       "<style scoped>\n",
       "    .dataframe tbody tr th:only-of-type {\n",
       "        vertical-align: middle;\n",
       "    }\n",
       "\n",
       "    .dataframe tbody tr th {\n",
       "        vertical-align: top;\n",
       "    }\n",
       "\n",
       "    .dataframe thead th {\n",
       "        text-align: right;\n",
       "    }\n",
       "</style>\n",
       "<table border=\"1\" class=\"dataframe\">\n",
       "  <thead>\n",
       "    <tr style=\"text-align: right;\">\n",
       "      <th></th>\n",
       "      <th>english</th>\n",
       "      <th>french</th>\n",
       "    </tr>\n",
       "  </thead>\n",
       "  <tbody>\n",
       "    <tr>\n",
       "      <th>0</th>\n",
       "      <td>hell be back soon</td>\n",
       "      <td>il sera bientôt de retour</td>\n",
       "    </tr>\n",
       "    <tr>\n",
       "      <th>1</th>\n",
       "      <td>he came in through the window</td>\n",
       "      <td>il est entré par la fenêtre</td>\n",
       "    </tr>\n",
       "    <tr>\n",
       "      <th>2</th>\n",
       "      <td>we think too much and feel too little</td>\n",
       "      <td>nous pensons trop et ressentons trop peu</td>\n",
       "    </tr>\n",
       "    <tr>\n",
       "      <th>3</th>\n",
       "      <td>tom has a meeting tomorrow</td>\n",
       "      <td>tom a une réunion demain</td>\n",
       "    </tr>\n",
       "    <tr>\n",
       "      <th>4</th>\n",
       "      <td>by the way have you seen him lately</td>\n",
       "      <td>à ce propos lastu vu dernièrement</td>\n",
       "    </tr>\n",
       "    <tr>\n",
       "      <th>5</th>\n",
       "      <td>i thought your house was downtown</td>\n",
       "      <td>je pensais que ta maison se trouvait au centre...</td>\n",
       "    </tr>\n",
       "    <tr>\n",
       "      <th>6</th>\n",
       "      <td>i was eighteen then</td>\n",
       "      <td>javais alors ans</td>\n",
       "    </tr>\n",
       "    <tr>\n",
       "      <th>7</th>\n",
       "      <td>they met on a blind date</td>\n",
       "      <td>ils se sont rencontrés à une rencontre surprise</td>\n",
       "    </tr>\n",
       "    <tr>\n",
       "      <th>8</th>\n",
       "      <td>your wife is here</td>\n",
       "      <td>ta femme est ici</td>\n",
       "    </tr>\n",
       "    <tr>\n",
       "      <th>9</th>\n",
       "      <td>i cant believe im talking to you about this</td>\n",
       "      <td>je narrive pas à croire que je sois en train d...</td>\n",
       "    </tr>\n",
       "  </tbody>\n",
       "</table>\n",
       "</div>"
      ],
      "text/plain": [
       "                                       english  \\\n",
       "0                            hell be back soon   \n",
       "1                he came in through the window   \n",
       "2        we think too much and feel too little   \n",
       "3                   tom has a meeting tomorrow   \n",
       "4          by the way have you seen him lately   \n",
       "5            i thought your house was downtown   \n",
       "6                          i was eighteen then   \n",
       "7                     they met on a blind date   \n",
       "8                            your wife is here   \n",
       "9  i cant believe im talking to you about this   \n",
       "\n",
       "                                              french  \n",
       "0                          il sera bientôt de retour  \n",
       "1                        il est entré par la fenêtre  \n",
       "2           nous pensons trop et ressentons trop peu  \n",
       "3                           tom a une réunion demain  \n",
       "4                  à ce propos lastu vu dernièrement  \n",
       "5  je pensais que ta maison se trouvait au centre...  \n",
       "6                                   javais alors ans  \n",
       "7    ils se sont rencontrés à une rencontre surprise  \n",
       "8                                   ta femme est ici  \n",
       "9  je narrive pas à croire que je sois en train d...  "
      ]
     },
     "execution_count": 7,
     "metadata": {},
     "output_type": "execute_result"
    }
   ],
   "source": [
    "train_data[:10]"
   ]
  },
  {
   "cell_type": "code",
   "execution_count": 8,
   "id": "2022b7d3-25f3-4df4-89c1-d4b7f6e1d310",
   "metadata": {},
   "outputs": [],
   "source": [
    "SPECIAL_CHAR={'<UNX>':0,'<SOS>':1,'<EOS>':2,'<PAD>':3}"
   ]
  },
  {
   "cell_type": "code",
   "execution_count": 9,
   "id": "86fef232-a810-4773-9873-2bb712e4666b",
   "metadata": {},
   "outputs": [],
   "source": [
    "class Vocab:\n",
    "    def __init__(self,max_size=10000,min_frequency=0):\n",
    "        self.max_size=max_size\n",
    "        self.min_frequency=min_frequency\n",
    "        self.itos={0:'<UNX>',1:'<SOS>',2:'<EOS>',3:'<PAD>'}\n",
    "        self.stoi={j:i for i,j in self.itos.items()}\n",
    "        \n",
    "    def tokenize(self,sentance):\n",
    "        return sentance.strip().split(' ')\n",
    "    \n",
    "    def build_vocab(self,sentance_list):\n",
    "        freq={}\n",
    "        idx=4\n",
    "        for sentance in sentance_list:\n",
    "            # print(sentance)\n",
    "            # print(self.tokenize(sentance))\n",
    "            for word in self.tokenize(sentance):\n",
    "                # print(word)\n",
    "                if word in freq.keys():\n",
    "                    freq[word]+=1\n",
    "                else:\n",
    "                    freq[word]=1\n",
    "        # print(freq)\n",
    "        # print(\"##########\")\n",
    "        freq={k:v for k,v in freq.items() if v>=self.min_frequency }\n",
    "        # print(freq)\n",
    "        freq = dict(sorted(freq.items(), key = lambda x: -x[1])[:self.max_size-idx])\n",
    "        # print(freq)\n",
    "        for i in freq:\n",
    "            self.itos[idx]=i\n",
    "            self.stoi[i]=idx\n",
    "            idx+=1\n",
    "            \n",
    "    def numericalize(self,sentance,use_sos_n_eos=True,):\n",
    "        tokens=self.tokenize(sentance)\n",
    "        number=[] \n",
    "        if use_sos_n_eos:\n",
    "            number.append(1)\n",
    "        for token in tokens:\n",
    "            if token in self.stoi.keys():\n",
    "                number.append(self.stoi[token])\n",
    "            else:\n",
    "                number.append(0)\n",
    "        if use_sos_n_eos:\n",
    "            number.append(2)\n",
    "        return number\n",
    "    \n",
    "    def stringify(self,num_list):\n",
    "        str_ret=[]\n",
    "        for i in num_list:\n",
    "            if i in self.itos.keys():\n",
    "                str_ret.append(self.itos[i])\n",
    "        return str_ret"
   ]
  },
  {
   "cell_type": "code",
   "execution_count": 10,
   "id": "9eb7c27c-02aa-4b1f-abce-367c3d7d0fb0",
   "metadata": {},
   "outputs": [
    {
     "data": {
      "text/plain": [
       "[1, 4, 5, 6, 7, 8, 9, 2]"
      ]
     },
     "execution_count": 10,
     "metadata": {},
     "output_type": "execute_result"
    }
   ],
   "source": [
    "vocab=Vocab(max_size=50000,min_frequency=1)\n",
    "vocab.build_vocab([\"quick brown fox jumped the wine\"])\n",
    "vocab.numericalize(\"quick brown fox jumped the wine\")"
   ]
  },
  {
   "cell_type": "code",
   "execution_count": 11,
   "id": "0d223a0c-e515-46a8-8935-2a5a903a6eb7",
   "metadata": {},
   "outputs": [
    {
     "data": {
      "text/plain": [
       "[1, 131, 16, 715, 18, 2]"
      ]
     },
     "execution_count": 11,
     "metadata": {},
     "output_type": "execute_result"
    }
   ],
   "source": [
    "vocab=Vocab(max_size=50000,min_frequency=1)\n",
    "vocab.build_vocab(train_data.english)\n",
    "vocab.numericalize(val_data.english[4])"
   ]
  },
  {
   "cell_type": "code",
   "execution_count": 12,
   "id": "486cea2b-5250-4e3a-89ef-4d9ca2bcd58d",
   "metadata": {},
   "outputs": [
    {
     "data": {
      "text/plain": [
       "'let me explain this'"
      ]
     },
     "execution_count": 12,
     "metadata": {},
     "output_type": "execute_result"
    }
   ],
   "source": [
    "val_data.english[4]"
   ]
  },
  {
   "cell_type": "code",
   "execution_count": 13,
   "id": "8c15b23f-97a7-4514-a25e-9136944c9f5f",
   "metadata": {},
   "outputs": [
    {
     "data": {
      "text/plain": [
       "['<SOS>', 'let', 'me', 'explain', 'this', '<EOS>']"
      ]
     },
     "execution_count": 13,
     "metadata": {},
     "output_type": "execute_result"
    }
   ],
   "source": [
    "vocab.stringify(vocab.numericalize(val_data.english[4]))"
   ]
  },
  {
   "cell_type": "code",
   "execution_count": 14,
   "id": "6eee14e5-8906-4a2d-8808-e18314775eaf",
   "metadata": {},
   "outputs": [],
   "source": [
    "from torch.utils.data import Dataset\n",
    "\n",
    "class CusDataset(Dataset):\n",
    "    def __init__(self,lang1,lang2,lang1_vocab=None,lang2_vocab=None):\n",
    "        \n",
    "        self.lang1_vocab=Vocab(max_size=40000,min_frequency=1) if lang1_vocab is None else lang1_vocab\n",
    "        self.lang2_vocab=Vocab(max_size=40000,min_frequency=1) if lang2_vocab is None else lang2_vocab\n",
    "        self.lang1=lang1\n",
    "        self.lang2=lang2\n",
    "        if lang1_vocab is not None:\n",
    "            self.lang1_vocab.build_vocab(lang1)\n",
    "        if lang2_vocab is not None:\n",
    "            self.lang2_vocab.build_vocab(lang2)\n",
    "       \n",
    "    def __getitem__(self,n):\n",
    "        return torch.Tensor(self.lang1_vocab.numericalize(self.lang1[n])),torch.Tensor(self.lang2_vocab.numericalize(self.lang2[n]))\n",
    "    def __len__(self):\n",
    "        return len(self.lang2)"
   ]
  },
  {
   "cell_type": "code",
   "execution_count": 15,
   "id": "901f4215-1abf-40dc-bdbc-06e0dba6a2d6",
   "metadata": {},
   "outputs": [],
   "source": [
    "# lang1_vocab=Vocab(max_size=40000,min_frequency=1) \n",
    "# lang2_vocab=Vocab(max_size=40000,min_frequency=1)\n",
    "# lang1_vocab.build_vocab(train_data.english)\n",
    "# lang2_vocab.build_vocab(train_data.french)\n",
    "\n",
    "trainDataset=CusDataset(train_data.english,train_data.french)\n",
    "valDataset=CusDataset(val_data.english,val_data.french,lang1_vocab=trainDataset.lang1_vocab,lang2_vocab=trainDataset.lang2_vocab)"
   ]
  },
  {
   "cell_type": "code",
   "execution_count": 16,
   "id": "b1a3f63d-a92b-4a75-8bcf-ea176512b601",
   "metadata": {},
   "outputs": [
    {
     "name": "stdout",
     "output_type": "stream",
     "text": [
      "(tensor([  1., 767.,  29., 120., 266.,   2.]), tensor([  1.,  13., 314., 423.,   5., 777.,   2.]))\n",
      "<__main__.CusDataset object at 0x0000023953DD09D0>\n",
      "(tensor([  1.,  10., 239.,  16., 499.,   7., 460.,   2.]), tensor([1.0000e+00, 1.3000e+01, 1.5000e+01, 1.8940e+03, 8.1000e+01, 1.0000e+01,\n",
      "        5.3600e+02, 2.0000e+00]))\n",
      "<__main__.CusDataset object at 0x0000023953DD09D0>\n",
      "(tensor([  1.,  28.,  48., 102., 107.,  50., 141., 102., 166.,   2.]), tensor([1.0000e+00, 2.0000e+01, 3.4680e+03, 1.0200e+02, 4.8000e+01, 0.0000e+00,\n",
      "        1.0200e+02, 9.8000e+01, 2.0000e+00]))\n",
      "<__main__.CusDataset object at 0x0000023953DD09D0>\n",
      "(tensor([  1.,  11.,  69.,   8., 361., 183.,   2.]), tensor([  1.,  14.,  18.,  23., 426., 175.,   2.]))\n",
      "<__main__.CusDataset object at 0x0000023953DD09D0>\n",
      "(tensor([1.0000e+00, 8.2000e+01, 7.0000e+00, 1.3700e+02, 1.9000e+01, 5.0000e+00,\n",
      "        2.5000e+02, 4.3000e+01, 1.7250e+03, 2.0000e+00]), tensor([1.0000e+00, 8.0000e+00, 1.7000e+01, 5.2600e+02, 9.0100e+02, 1.3700e+02,\n",
      "        4.6410e+03, 2.0000e+00]))\n",
      "<__main__.CusDataset object at 0x0000023953DD09D0>\n",
      "(tensor([1.0000e+00, 4.0000e+00, 1.1500e+02, 2.5000e+01, 1.4900e+02, 2.1000e+01,\n",
      "        2.6340e+03, 2.0000e+00]), tensor([1.0000e+00, 4.0000e+00, 1.6200e+02, 7.0000e+00, 1.1600e+02, 1.0600e+02,\n",
      "        4.0000e+01, 1.6050e+03, 4.3000e+01, 3.4730e+03, 2.0000e+00]))\n",
      "<__main__.CusDataset object at 0x0000023953DD09D0>\n"
     ]
    }
   ],
   "source": [
    "for i,cur_data in enumerate(trainDataset):\n",
    "    print(cur_data)\n",
    "    print(trainDataset)\n",
    "    if i==5:\n",
    "        break"
   ]
  },
  {
   "cell_type": "code",
   "execution_count": 17,
   "id": "75009fb8-8286-4f12-a068-659db03fa492",
   "metadata": {},
   "outputs": [
    {
     "data": {
      "text/plain": [
       "['<SOS>', 'hell', 'be', 'back', 'soon', '<EOS>']"
      ]
     },
     "execution_count": 17,
     "metadata": {},
     "output_type": "execute_result"
    }
   ],
   "source": [
    "trainDataset.lang1_vocab.stringify(trainDataset[0][0].to(dtype=torch.int32).numpy())"
   ]
  },
  {
   "cell_type": "code",
   "execution_count": 18,
   "id": "e86c67e7-031f-46b8-8354-4e77ecdc5c0e",
   "metadata": {},
   "outputs": [
    {
     "data": {
      "text/plain": [
       "['<SOS>', 'il', 'sera', 'bientôt', 'de', 'retour', '<EOS>']"
      ]
     },
     "execution_count": 18,
     "metadata": {},
     "output_type": "execute_result"
    }
   ],
   "source": [
    "trainDataset.lang2_vocab.stringify(trainDataset[0][1].to(dtype=torch.int32).numpy())"
   ]
  },
  {
   "cell_type": "code",
   "execution_count": 19,
   "id": "9d096cdc-1e6e-4ebc-90ba-96cf4e4c61f7",
   "metadata": {},
   "outputs": [
    {
     "data": {
      "text/plain": [
       "'il sera bientôt de retour'"
      ]
     },
     "execution_count": 19,
     "metadata": {},
     "output_type": "execute_result"
    }
   ],
   "source": [
    "train_data.french[0]"
   ]
  },
  {
   "cell_type": "code",
   "execution_count": 20,
   "id": "28533be8-1f52-4804-86b0-db6a80d3b001",
   "metadata": {},
   "outputs": [],
   "source": [
    "from torch.nn.utils.rnn import pad_sequence\n",
    "\n",
    "class Collate:\n",
    "    def __init__(self,pad_idx):\n",
    "        self.pad_idx=pad_idx\n",
    "    def __call__(self,batch_data):\n",
    "#         breakpoint()\n",
    "        source_data=[item[0] for item in batch_data]\n",
    "        target_data=[item[1] for item in batch_data]\n",
    "        source = pad_sequence(source_data, batch_first=False, padding_value = self.pad_idx) \n",
    "        target = pad_sequence(target_data, batch_first=False, padding_value = self.pad_idx)\n",
    "        return source,target\n",
    "        "
   ]
  },
  {
   "cell_type": "code",
   "execution_count": 21,
   "id": "7b8ec206",
   "metadata": {},
   "outputs": [],
   "source": [
    "#temp=next(iter(train_loader))"
   ]
  },
  {
   "cell_type": "code",
   "execution_count": 22,
   "id": "4f879585",
   "metadata": {},
   "outputs": [],
   "source": [
    "# for i,cur_batch in enumerate(val_loader):\n",
    "#     print(cur_batch[0].size())\n",
    "#     print(cur_batch[0])\n",
    "#     print(cur_batch[1].size())\n",
    "#     break"
   ]
  },
  {
   "cell_type": "code",
   "execution_count": 23,
   "id": "21ff53be",
   "metadata": {},
   "outputs": [],
   "source": [
    "from torch import Tensor\n",
    "import torch\n",
    "import torch.nn as nn\n",
    "from torch.nn import Transformer\n",
    "import math\n",
    "DEVICE = torch.device('cuda' if torch.cuda.is_available() else 'cpu')\n",
    "\n",
    "# helper Module that adds positional encoding to the token embedding to introduce a notion of word order.\n",
    "class PositionalEncoding(nn.Module):\n",
    "    def __init__(self,\n",
    "                 emb_size: int,\n",
    "                 dropout: float,\n",
    "                 maxlen: int = 5000):\n",
    "        super(PositionalEncoding, self).__init__()\n",
    "        den = torch.exp(- torch.arange(0, emb_size, 2)* math.log(10000) / emb_size)\n",
    "        pos = torch.arange(0, maxlen).reshape(maxlen, 1)\n",
    "        pos_embedding = torch.zeros((maxlen, emb_size))\n",
    "        pos_embedding[:, 0::2] = torch.sin(pos * den)\n",
    "        pos_embedding[:, 1::2] = torch.cos(pos * den)\n",
    "        pos_embedding = pos_embedding.unsqueeze(-2)\n",
    "\n",
    "        self.dropout = nn.Dropout(dropout)\n",
    "        self.register_buffer('pos_embedding', pos_embedding)\n",
    "\n",
    "    def forward(self, token_embedding: Tensor):\n",
    "        return self.dropout(token_embedding + self.pos_embedding[:token_embedding.size(0), :])\n",
    "\n",
    "# helper Module to convert tensor of input indices into corresponding tensor of token embeddings\n",
    "class TokenEmbedding(nn.Module):\n",
    "    def __init__(self, vocab_size: int, emb_size):\n",
    "        super(TokenEmbedding, self).__init__()\n",
    "        self.embedding = nn.Embedding(vocab_size, emb_size)\n",
    "        self.emb_size = emb_size\n",
    "\n",
    "    def forward(self, tokens: Tensor):\n",
    "        return self.embedding(tokens.long()) * math.sqrt(self.emb_size)\n",
    "\n",
    "# Seq2Seq Network\n",
    "class Seq2SeqTransformer(nn.Module):\n",
    "    def __init__(self,\n",
    "                 num_encoder_layers: int,\n",
    "                 num_decoder_layers: int,\n",
    "                 emb_size: int,\n",
    "                 nhead: int,\n",
    "                 src_vocab_size: int,\n",
    "                 tgt_vocab_size: int,\n",
    "                 dim_feedforward: int = 512,\n",
    "                 dropout: float = 0.1):\n",
    "        super(Seq2SeqTransformer, self).__init__()\n",
    "        self.transformer = Transformer(d_model=emb_size,\n",
    "                                       nhead=nhead,\n",
    "                                       num_encoder_layers=num_encoder_layers,\n",
    "                                       num_decoder_layers=num_decoder_layers,\n",
    "                                       dim_feedforward=dim_feedforward,\n",
    "                                       dropout=dropout,\n",
    "                                        batch_first=False)\n",
    "        self.generator = nn.Linear(emb_size, tgt_vocab_size)\n",
    "        self.src_tok_emb = TokenEmbedding(src_vocab_size, emb_size)\n",
    "        self.tgt_tok_emb = TokenEmbedding(tgt_vocab_size, emb_size)\n",
    "        self.positional_encoding = PositionalEncoding(\n",
    "            emb_size, dropout=dropout)\n",
    "\n",
    "    def forward(self,\n",
    "                src: Tensor,\n",
    "                trg: Tensor,\n",
    "                src_mask: Tensor,\n",
    "                tgt_mask: Tensor,\n",
    "                src_padding_mask: Tensor,\n",
    "                tgt_padding_mask: Tensor,\n",
    "                memory_key_padding_mask: Tensor):\n",
    "        src_emb = self.positional_encoding(self.src_tok_emb(src))\n",
    "        tgt_emb = self.positional_encoding(self.tgt_tok_emb(trg))\n",
    "        outs = self.transformer(src_emb, tgt_emb, src_mask, tgt_mask, None,\n",
    "                                src_padding_mask, tgt_padding_mask, memory_key_padding_mask)\n",
    "        return self.generator(outs)\n",
    "\n",
    "    def encode(self, src: Tensor, src_mask: Tensor):\n",
    "        return self.transformer.encoder(self.positional_encoding(\n",
    "                            self.src_tok_emb(src)), src_mask)\n",
    "\n",
    "    def decode(self, tgt: Tensor, memory: Tensor, tgt_mask: Tensor):\n",
    "        return self.transformer.decoder(self.positional_encoding(\n",
    "                          self.tgt_tok_emb(tgt)), memory,\n",
    "                          tgt_mask)"
   ]
  },
  {
   "cell_type": "code",
   "execution_count": 50,
   "id": "84ade093",
   "metadata": {},
   "outputs": [],
   "source": [
    "# def masking(src,tgt,pad_idx):\n",
    "#     src_mask=torch.zeros_like(src)\n",
    "#     src_mask[src==pad_idx]=-inf\n",
    "#     tgt_mask=torch.zeros_like(tgt)\n",
    "\n",
    "\n",
    "def generate_square_subsequent_mask(sz):\n",
    "    mask = (torch.triu(torch.ones((sz, sz), device=DEVICE)) == 1).transpose(0, 1)\n",
    "    mask = mask.float().masked_fill(mask == 0, float('-inf')).masked_fill(mask == 1, float(0.0))\n",
    "    return mask\n",
    "\n",
    "\n",
    "def create_mask(src, tgt):\n",
    "    src_seq_len = src.shape[0]\n",
    "    tgt_seq_len = tgt.shape[0]\n",
    "\n",
    "    tgt_mask = generate_square_subsequent_mask(tgt_seq_len)\n",
    "    src_mask = torch.zeros((src_seq_len, src_seq_len),device=DEVICE).type(torch.bool)\n",
    "    #breakpoint()\n",
    "    src_padding_mask = (src == SPECIAL_CHAR['<PAD>']).transpose(0, 1)\n",
    "    tgt_padding_mask = (tgt == SPECIAL_CHAR['<PAD>']).transpose(0, 1)\n",
    "    return src_mask, tgt_mask, src_padding_mask, tgt_padding_mask"
   ]
  },
  {
   "cell_type": "code",
   "execution_count": 51,
   "id": "0ed1a88c",
   "metadata": {},
   "outputs": [
    {
     "data": {
      "text/plain": [
       "tensor([[0., 1., 1.],\n",
       "        [0., 0., 1.],\n",
       "        [0., 0., 0.]])"
      ]
     },
     "execution_count": 51,
     "metadata": {},
     "output_type": "execute_result"
    }
   ],
   "source": [
    "torch.triu(torch.ones(3,3),diagonal=1)"
   ]
  },
  {
   "cell_type": "code",
   "execution_count": 52,
   "id": "c08b4b3b",
   "metadata": {},
   "outputs": [],
   "source": [
    "model=Seq2SeqTransformer( num_encoder_layers= 3,\n",
    "                 num_decoder_layers= 3,\n",
    "                 emb_size= 256,\n",
    "                 nhead= 4,\n",
    "                 src_vocab_size= 40000,\n",
    "                 tgt_vocab_size= 40000,\n",
    "                 dim_feedforward = 256,\n",
    "                 dropout = 0.1,\n",
    "               )\n",
    "\n",
    "for p in model.parameters():\n",
    "    if p.dim() > 1:\n",
    "        nn.init.xavier_uniform_(p)\n",
    "\n",
    "model = model.to(DEVICE)\n",
    "\n",
    "loss_fn = torch.nn.CrossEntropyLoss(ignore_index=SPECIAL_CHAR['<PAD>'])\n",
    "optimizer = torch.optim.Adam(model.parameters(), lr=0.0001, betas=(0.9, 0.98), eps=1e-9)"
   ]
  },
  {
   "cell_type": "code",
   "execution_count": 53,
   "id": "9233d22d-363a-400b-9ec1-8c8e6c97e91c",
   "metadata": {},
   "outputs": [],
   "source": [
    "from torch.utils.data import DataLoader, Dataset\n",
    "batch_size=10\n",
    "num_workers=0"
   ]
  },
  {
   "cell_type": "code",
   "execution_count": 54,
   "id": "2fab1a19",
   "metadata": {},
   "outputs": [
    {
     "name": "stdout",
     "output_type": "stream",
     "text": [
      "test 3.44\n"
     ]
    }
   ],
   "source": [
    "q=3.44\n",
    "print(f\"test {q}\")"
   ]
  },
  {
   "cell_type": "code",
   "execution_count": 55,
   "id": "0c823d8b",
   "metadata": {},
   "outputs": [],
   "source": [
    "def train(model,loss_fn,optimizer):\n",
    "    model.train()\n",
    "    total_loss=0\n",
    "    train_loader=DataLoader(trainDataset,batch_size = batch_size, num_workers = num_workers,\n",
    "                        shuffle=True, collate_fn = Collate(pad_idx=SPECIAL_CHAR['<PAD>']),pin_memory=True)\n",
    "    for j,(src,tgt) in enumerate(train_loader):\n",
    "        src=src.to(device=DEVICE)\n",
    "        tgt=tgt.to(device=DEVICE)\n",
    "        tgt_input=tgt[:-1,:]\n",
    "        tgt_output=tgt[1:,:].type(torch.LongTensor).to(device=DEVICE)\n",
    "        \n",
    "        src_mask,tgt_mask,src_padding_mask,tgt_padding_mask=create_mask(src,tgt_input)\n",
    "        src_mask=src_mask.to(device=DEVICE)\n",
    "        tgt_mask=tgt_mask.to(device=DEVICE)\n",
    "        src_padding_mask=src_padding_mask.to(device=DEVICE)\n",
    "        tgt_padding_mask=tgt_padding_mask.to(device=DEVICE)\n",
    "        \n",
    "        predicted=model(src=src,\n",
    "                        trg=tgt_input,\n",
    "                        src_mask= src_mask,\n",
    "                        tgt_mask= tgt_mask,\n",
    "                        src_padding_mask=src_padding_mask,\n",
    "                        tgt_padding_mask=tgt_padding_mask,\n",
    "                       memory_key_padding_mask=src_padding_mask)\n",
    "        \n",
    "#         breakpoint()\n",
    "\n",
    "        optimizer.zero_grad()\n",
    "        loss=loss_fn(predicted.reshape(-1,predicted.size()[-1]),tgt_output.reshape(-1))\n",
    "        loss.backward()\n",
    "        optimizer.step()\n",
    "        total_loss+=loss\n",
    "        \n",
    "    return total_loss/len(train_loader)\n",
    "\n",
    "def val(model):\n",
    "    val_loader=DataLoader(valDataset,batch_size = batch_size, num_workers = num_workers,\n",
    "                        shuffle=True, collate_fn = Collate(pad_idx=SPECIAL_CHAR['<PAD>']),pin_memory=True)\n",
    "    model.eval()\n",
    "    val_total_loss=0\n",
    "    for j,(src,tgt) in enumerate(val_loader):\n",
    "        src=src.to(device=DEVICE)\n",
    "        tgt=tgt.to(device=DEVICE)\n",
    "        tgt_input=tgt[:-1,:]\n",
    "        tgt_output=tgt[1:,:].type(torch.LongTensor).to(device=DEVICE)\n",
    "        \n",
    "        src_mask,tgt_mask,src_padding_mask,tgt_padding_mask=create_mask(src,tgt_input)\n",
    "        src_mask=src_mask.to(device=DEVICE)\n",
    "        tgt_mask=tgt_mask.to(device=DEVICE)\n",
    "        src_padding_mask=src_padding_mask.to(device=DEVICE)\n",
    "        tgt_padding_mask=tgt_padding_mask.to(device=DEVICE)\n",
    "        \n",
    "        predicted=model(src=src,\n",
    "                        trg=tgt_input,\n",
    "                        src_mask= src_mask,\n",
    "                        tgt_mask= tgt_mask,\n",
    "                        src_padding_mask=src_padding_mask,\n",
    "                        tgt_padding_mask=tgt_padding_mask,\n",
    "                       memory_key_padding_mask=src_padding_mask)\n",
    "        \n",
    "#         breakpoint()\n",
    "\n",
    "        val_loss=loss_fn(predicted.reshape(-1,predicted.size()[-1]),tgt_output.reshape(-1))\n",
    "        val_total_loss+=val_loss\n",
    "    return val_total/len(val_loader)"
   ]
  },
  {
   "cell_type": "code",
   "execution_count": 89,
   "id": "ed244e66",
   "metadata": {},
   "outputs": [
    {
     "name": "stdout",
     "output_type": "stream",
     "text": [
      "training loss ---- 4.913414001464844 ::: testing loss ---- 0\n",
      "training loss ---- 4.404131889343262 ::: testing loss ---- 0\n",
      "training loss ---- 4.047504425048828 ::: testing loss ---- 0\n",
      "training loss ---- 3.7489264011383057 ::: testing loss ---- 0\n",
      "training loss ---- 3.5136923789978027 ::: testing loss ---- 0\n"
     ]
    }
   ],
   "source": [
    "EPOCHS=5\n",
    "for i in range(EPOCHS):\n",
    "    train_loss=train(model,loss_fn,optimizer)\n",
    "#     val_loss=val(model)\n",
    "    val_loss=0\n",
    "    \n",
    "    \n",
    "        \n",
    "    \n",
    "    print(f\"training loss ---- {train_loss} ::: testing loss ---- {val_loss}\")\n",
    "        \n",
    "        \n",
    "        "
   ]
  },
  {
   "cell_type": "code",
   "execution_count": 91,
   "id": "9d46b5c3",
   "metadata": {},
   "outputs": [],
   "source": [
    "def greedy_decode(src,src_mask,start_index,end_index,max_len,model):\n",
    "    src=src.to(device=DEVICE)\n",
    "    src_mask=src_mask.to(device=DEVICE)\n",
    "    mem=model.encode(src,src_mask).to(device=DEVICE)\n",
    "    ys=torch.Tensor([[start_index]]).type(torch.long).to(device=DEVICE)\n",
    "    for i in range(max_len):\n",
    "        tgt_mask=generate_square_subsequent_mask(len(ys)).type(torch.bool).to(DEVICE)\n",
    "        pred=model.decode(ys,mem,tgt_mask)\n",
    "        output=model.generator(pred)\n",
    "        ys=torch.cat((ys,output))\n",
    "        if output==stop_index:\n",
    "            break\n",
    "    \n",
    "    return ys\n",
    "    \n",
    "    \n",
    "def greedy_decode1(model, src, src_mask, max_len, start_symbol,end_symbol):\n",
    "    src = src.to(DEVICE)\n",
    "    src_mask = src_mask.to(DEVICE)\n",
    "\n",
    "    memory = model.encode(src, src_mask)\n",
    "    ys = torch.ones(1, 1).fill_(start_symbol).type(torch.long).to(DEVICE)\n",
    "    for i in range(max_len-1):\n",
    "        memory = memory.to(DEVICE)\n",
    "        tgt_mask = (generate_square_subsequent_mask(ys.size(0))\n",
    "                    .type(torch.bool)).to(DEVICE)\n",
    "        out = model.decode(ys, memory, tgt_mask)\n",
    "        out = out.transpose(0, 1)\n",
    "        prob = model.generator(out[:, -1])\n",
    "        _, next_word = torch.max(prob, dim=1)\n",
    "        next_word = next_word.item()\n",
    "\n",
    "        ys = torch.cat([ys,\n",
    "                        torch.ones(1, 1).type_as(src.data).fill_(next_word)], dim=0)\n",
    "        if next_word == end_symbol:\n",
    "            break\n",
    "    return ys\n",
    "    \n",
    "    "
   ]
  },
  {
   "cell_type": "code",
   "execution_count": 94,
   "id": "c570cae7",
   "metadata": {},
   "outputs": [
    {
     "name": "stdout",
     "output_type": "stream",
     "text": [
      "\n"
     ]
    }
   ],
   "source": [
    "temp=\"Comment allez vous\"\n",
    "temp=\"what is your name\"\n",
    "test_in=torch.Tensor(trainDataset.lang1_vocab.numericalize(temp)).to(device=DEVICE)\n",
    "test_mask=torch.zeros(test_in.size()[0],test_in.size()[0]).to(device=DEVICE)\n",
    "test_in=test_in.reshape(-1,1)\n",
    "print()\n",
    "\n",
    "#greedy_decode(test_in,test_mask,SPECIAL_CHAR['<SOS>'],SPECIAL_CHAR['<EOS>'],50,model)\n",
    "values=greedy_decode1(model,test_in,test_mask,50,SPECIAL_CHAR['<SOS>'],SPECIAL_CHAR['<EOS>'])"
   ]
  },
  {
   "cell_type": "code",
   "execution_count": 95,
   "id": "4d7a3f2c",
   "metadata": {},
   "outputs": [
    {
     "data": {
      "text/plain": [
       "['<SOS>', 'que', 'ton', 'nom', '<EOS>']"
      ]
     },
     "execution_count": 95,
     "metadata": {},
     "output_type": "execute_result"
    }
   ],
   "source": [
    "trainDataset.lang2_vocab.stringify(values.reshape(-1).to(dtype=torch.int32).cpu().numpy())"
   ]
  },
  {
   "cell_type": "code",
   "execution_count": 96,
   "id": "d9da1ac7",
   "metadata": {},
   "outputs": [
    {
     "data": {
      "text/plain": [
       "tensor([  1,   7,  77, 267,   2], device='cuda:0', dtype=torch.int32)"
      ]
     },
     "execution_count": 96,
     "metadata": {},
     "output_type": "execute_result"
    }
   ],
   "source": [
    "values.reshape(-1).to(dtype=torch.int32)"
   ]
  },
  {
   "cell_type": "code",
   "execution_count": null,
   "id": "2c798f55",
   "metadata": {},
   "outputs": [],
   "source": []
  }
 ],
 "metadata": {
  "kernelspec": {
   "display_name": "Python 3",
   "language": "python",
   "name": "python3"
  },
  "language_info": {
   "codemirror_mode": {
    "name": "ipython",
    "version": 3
   },
   "file_extension": ".py",
   "mimetype": "text/x-python",
   "name": "python",
   "nbconvert_exporter": "python",
   "pygments_lexer": "ipython3",
   "version": "3.8.8"
  }
 },
 "nbformat": 4,
 "nbformat_minor": 5
}
